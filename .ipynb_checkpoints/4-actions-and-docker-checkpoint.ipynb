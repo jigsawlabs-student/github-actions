{
 "cells": [
  {
   "cell_type": "markdown",
   "metadata": {},
   "source": [
    "# Github Actions and Docker"
   ]
  },
  {
   "cell_type": "markdown",
   "metadata": {},
   "source": [
    "### Introduction"
   ]
  },
  {
   "cell_type": "markdown",
   "metadata": {},
   "source": [
    "In this lesson, we'll talk about how to integrate Docker with github actions.  We'll see how we can use Github actions to build our Docker image, push it to Github and then deploy to elastic beanstalk."
   ]
  },
  {
   "cell_type": "markdown",
   "metadata": {},
   "source": [
    "### Reviewing our Code"
   ]
  },
  {
   "cell_type": "markdown",
   "metadata": {},
   "source": [
    "We can begin with our codebase that consists of the following files."
   ]
  },
  {
   "cell_type": "markdown",
   "metadata": {},
   "source": [
    "```shell\n",
    "Dockerfile         app.py             index.md           iris-model.model   requirements.txt   train.py\n",
    "```"
   ]
  },
  {
   "cell_type": "markdown",
   "metadata": {},
   "source": [
    "If we look inside of the Dockerfile, we'll see that it builds our Flask api in an image  and then runs the flask app."
   ]
  },
  {
   "cell_type": "markdown",
   "metadata": {},
   "source": [
    "```Dockerfile\n",
    "FROM python:3.6-slim\n",
    "COPY ./app.py /deploy/\n",
    "COPY ./requirements.txt /deploy/\n",
    "COPY ./iris-model.model /deploy/\n",
    "WORKDIR /deploy/\n",
    "RUN pip install -r requirements.txt\n",
    "EXPOSE 80\n",
    "CMD [\"python\", \"app.py\"]\n",
    "```"
   ]
  },
  {
   "cell_type": "markdown",
   "metadata": {},
   "source": [
    "### Deploying to Dockerhub"
   ]
  },
  {
   "cell_type": "markdown",
   "metadata": {},
   "source": [
    "Now our first step will be to set up github actions to rebuild our image and push it up to Dockerhub whenever we merge to the master branch.  We can do so using the [Publish Docker Github Action repository](https://github.com/elgohr/Publish-Docker-Github-Action)."
   ]
  },
  {
   "cell_type": "markdown",
   "metadata": {},
   "source": [
    "If we look at the Publish Docker documentation, we can see that using involves only a small amount of configuration."
   ]
  },
  {
   "cell_type": "markdown",
   "metadata": {},
   "source": [
    "```yaml\n",
    "name: Publish Docker\n",
    "on: [push]\n",
    "jobs:\n",
    "  build:\n",
    "    runs-on: ubuntu-latest\n",
    "    steps:\n",
    "    - uses: actions/checkout@master\n",
    "    - name: Publish to Registry\n",
    "      uses: elgohr/Publish-Docker-Github-Action@master\n",
    "      with:\n",
    "        name: username/image_name\n",
    "        username: ${{ secrets.DOCKER_USERNAME }}\n",
    "        password: ${{ secrets.DOCKER_PASSWORD }}\n",
    "```"
   ]
  },
  {
   "cell_type": "markdown",
   "metadata": {},
   "source": [
    "So what we'll have to fill in is our DOCKER_USERNAME and DOCKER_PASSWORD in github.  Remember, we do this by going to our `github repository > settings > secrets`.\n",
    "\n",
    "We also should change set the name of our image with `username/image_name`.\n",
    "\n",
    "> I set mine to `jek2141/githubactions`.\n",
    "\n",
    "If we push we'll see that the action looks for our Dockerfile, and builds an image.\n",
    "\n",
    "> We can change the name of the Dockerfile it looks for by changing the default value\n",
    "```\n",
    "dockerfile: Dockerfile\n",
    "```"
   ]
  },
  {
   "cell_type": "markdown",
   "metadata": {},
   "source": [
    "Then if we inspect the action in our Github container, we'll see the following:"
   ]
  },
  {
   "cell_type": "markdown",
   "metadata": {},
   "source": [
    "<img src=\"./push-to-registry.png\" width=\"60%\">"
   ]
  },
  {
   "cell_type": "markdown",
   "metadata": {},
   "source": [
    "Then we can go to our repository and see our recently built image pushed up.  For example, I see the following:"
   ]
  },
  {
   "cell_type": "markdown",
   "metadata": {},
   "source": [
    "<img src=\"./github-actions-dockerhub.png\" width=\"60%\">"
   ]
  },
  {
   "cell_type": "markdown",
   "metadata": {},
   "source": [
    "### Pushing to Elastic Compute"
   ]
  },
  {
   "cell_type": "code",
   "execution_count": null,
   "metadata": {},
   "outputs": [],
   "source": [
    "* Need to learn more about the steps in "
   ]
  },
  {
   "cell_type": "markdown",
   "metadata": {},
   "source": [
    "### Resources\n",
    "\n",
    "\n",
    "[Docker Compose Github Action](https://medium.com/better-programming/docker-deployments-with-github-actions-7e59bb532505)\n",
    "\n",
    "[ECR and ECS cluster](https://medium.com/javascript-in-plain-english/deploy-your-node-app-to-aws-container-service-via-github-actions-build-a-pipeline-c114adeb8903)\n",
    "\n",
    "[Docker Github Actions](https://dzone.com/articles/github-actions-how-to-improve-your-cicd-workflow)\n",
    "\n",
    "[Github Docker Repository](https://github.com/JeffKatzy/docker-github-actions)\n",
    "\n"
   ]
  },
  {
   "cell_type": "markdown",
   "metadata": {},
   "source": [
    "[AWS Docker Task Definition](https://medium.com/javascript-in-plain-english/deploy-your-node-app-to-aws-container-service-via-github-actions-build-a-pipeline-c114adeb8903)"
   ]
  },
  {
   "cell_type": "markdown",
   "metadata": {},
   "source": [
    "[End to End ](https://dev.to/rmiyazaki6499/deploying-a-production-ready-react-express-app-on-aws-62m)"
   ]
  },
  {
   "cell_type": "markdown",
   "metadata": {},
   "source": [
    "[End to end deploy ](https://xiaoyunyang.github.io/post/a-complete-guide-to-deploying-your-web-app-to-amazon-web-service/)"
   ]
  }
 ],
 "metadata": {
  "kernelspec": {
   "display_name": "Python 3",
   "language": "python",
   "name": "python3"
  },
  "language_info": {
   "codemirror_mode": {
    "name": "ipython",
    "version": 3
   },
   "file_extension": ".py",
   "mimetype": "text/x-python",
   "name": "python",
   "nbconvert_exporter": "python",
   "pygments_lexer": "ipython3",
   "version": "3.8.6"
  }
 },
 "nbformat": 4,
 "nbformat_minor": 4
}
