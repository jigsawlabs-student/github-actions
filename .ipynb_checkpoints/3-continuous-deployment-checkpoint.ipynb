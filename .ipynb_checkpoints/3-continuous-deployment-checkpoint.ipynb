{
 "cells": [
  {
   "cell_type": "markdown",
   "metadata": {},
   "source": [
    "# Continuous Deployment with Github Actions"
   ]
  },
  {
   "cell_type": "markdown",
   "metadata": {},
   "source": [
    "### Introduction"
   ]
  },
  {
   "cell_type": "markdown",
   "metadata": {},
   "source": [
    "In this lesson, we'll see how to use Github actions to continue to automatically deploy updates to our codebase to a computer hosted by Amazon Web Services.  Let's get started."
   ]
  },
  {
   "cell_type": "markdown",
   "metadata": {},
   "source": [
    "### Starting with our Application"
   ]
  },
  {
   "cell_type": "markdown",
   "metadata": {},
   "source": [
    "Let's start with our codebase that both sets up a simple Flask application and has corresponding tests.  It consists of our `app.py`, `test_app.py` and `requirements.txt` files that look like the following:"
   ]
  },
  {
   "cell_type": "markdown",
   "metadata": {},
   "source": [
    "```python\n",
    "# app.py\n",
    "from flask import Flask\n",
    "\n",
    "application = Flask(__name__)\n",
    "\n",
    "@application.route(\"/\")\n",
    "def hello():\n",
    "    return \"Hello Friend!\"\n",
    "\n",
    "# run the app.\n",
    "if __name__ == \"__main__\":\n",
    "    application.run()\n",
    "```\n",
    "Then the corresponding tests:\n",
    "\n",
    "```python\n",
    "# test_app.py\n",
    "from app import app\n",
    "with app.test_client() as c:\n",
    "    response = c.get('/')\n",
    "    assert response.data == b'Hello Friend!'\n",
    "    assert response.status_code == 200\n",
    "``` \n",
    "And finally the `requirements.txt` file.\n",
    "```python\n",
    "# requirements.txt\n",
    "Flask\n",
    "pytest\n",
    "```"
   ]
  },
  {
   "cell_type": "markdown",
   "metadata": {},
   "source": [
    "And let's take a look at the `.github/workflows/main.yml` file.\n",
    "```yaml\n",
    "name: CI\n",
    "on:\n",
    "  push:\n",
    "    branches: [master]\n",
    "jobs:\n",
    "  test:\n",
    "    runs-on: ubuntu-latest\n",
    "    steps:\n",
    "      - uses: actions/checkout@v2\n",
    "      - name: Set up Python 3.6\n",
    "        uses: actions/setup-python@v1\n",
    "        with:\n",
    "          python-version: \"3.6\"\n",
    "      - name: Install dependencies\n",
    "        run: |\n",
    "          python -m pip install --upgrade pip\n",
    "          pip install -r requirements.txt\n",
    "      - name: Run tests\n",
    "        run: |\n",
    "          python test_app.py\n",
    "```"
   ]
  },
  {
   "cell_type": "markdown",
   "metadata": {},
   "source": [
    "### Writing a Deploy Job"
   ]
  },
  {
   "cell_type": "markdown",
   "metadata": {},
   "source": [
    "Ok, now let's think about what need to add another job that deploys our application to AWS.  Well if we think about what we need to run on AWS, similar to our `test` job above, we will need to download our repo from Github, install Python, followed by pip and our the packages specified in the `requirements.txt` file.\n",
    "\n",
    "The steps below can perform these tasks with the use of the AWS Command Line Interface."
   ]
  },
  {
   "cell_type": "markdown",
   "metadata": {},
   "source": [
    "```yaml\n",
    "name: CI\n",
    "on:\n",
    "  push:\n",
    "    branches: [master]\n",
    "jobs:\n",
    "  deploy:\n",
    "    needs:\n",
    "      - test\n",
    "    runs-on: ubuntu-latest\n",
    "    steps:\n",
    "      - uses: actions/checkout@v2\n",
    "      - name: Set up Python 3.6\n",
    "        uses: actions/setup-python@v1\n",
    "        with:\n",
    "          python-version: \"3.6\"\n",
    "      - name: Get EB CLI version\n",
    "        run: |\n",
    "          python -m pip install --upgrade pip\n",
    "          pip install awsebcli --upgrade\n",
    "          eb --version\n",
    "```"
   ]
  },
  {
   "cell_type": "markdown",
   "metadata": {},
   "source": [
    "Ok, so there are a number of new things in this job.  \n",
    "* The needs key\n",
    "\n",
    "Let's start by talking about that `needs: - test` component above.  By default our workflow jobs run in parallel.  But in this case, we do not want our code to be deployed until after we see that our `test` job has succeeded.  Thus we add the `needs: - test` to establish this requirement."
   ]
  },
  {
   "cell_type": "markdown",
   "metadata": {},
   "source": [
    "* Installing the EB CLI\n",
    "\n",
    "The next steps involve downloading the repository on the Github machine, and then using pip to install the awsebcli (AWS Elastic Beanstalk CLI).  We can use the CLI to help us with deploying to elastic beanstalk.  We'll do that next."
   ]
  },
  {
   "cell_type": "markdown",
   "metadata": {},
   "source": [
    "### Deploying to AWS"
   ]
  },
  {
   "cell_type": "markdown",
   "metadata": {},
   "source": [
    "Now we may have noticed that so far nothing involved adding deploying our codebase to AWS.  All we have done so far is work on the github machine to download our github repository, install `Python`, `pip`, and the `awsebcli`.  Ok, now that we have our codebase on the github machine, and the AWSEBClI, it's time to deploy our code to AWS."
   ]
  },
  {
   "cell_type": "markdown",
   "metadata": {},
   "source": [
    "First, to deploy our code on AWS, we'll need to login to AWS.  And this means using our access key and secret access key to do so.  We can find these by logging into our AWS account and clicking on My Security Credentials."
   ]
  },
  {
   "cell_type": "markdown",
   "metadata": {},
   "source": [
    "<img src=\"./aws-keys.png\" width=\"50%\">"
   ]
  },
  {
   "cell_type": "markdown",
   "metadata": {},
   "source": [
    "From here we can click on the dropdown for access keys and type Create a New Access key to get the access key id and the secret access key."
   ]
  },
  {
   "cell_type": "markdown",
   "metadata": {},
   "source": [
    "<img src=\"./create-access-key.png\" width=\"60%\">"
   ]
  },
  {
   "cell_type": "markdown",
   "metadata": {},
   "source": [
    "Ok, now it's time to take those credentials and add them to the github repository.\n",
    "\n",
    "> We can do this by clicking on Settings and then Secrets."
   ]
  },
  {
   "cell_type": "markdown",
   "metadata": {},
   "source": [
    "<img src=\"./settings-secrets.png\" width=\"80%\">"
   ]
  },
  {
   "cell_type": "markdown",
   "metadata": {},
   "source": [
    "The name of the first secret would be `AWS_ACCESS_KEY_ID` and the value would be our access key id from AWS.  And then do the same with a key named `AWS_SECRET_ACCESS_KEY`."
   ]
  },
  {
   "cell_type": "markdown",
   "metadata": {},
   "source": [
    "<img src=\"./actions-secrets.png\" width=\"80%\">"
   ]
  },
  {
   "cell_type": "markdown",
   "metadata": {},
   "source": [
    "Ok, now we can add a step to read from our Github secrets in the `configure-aws-credentials@v1` step.  "
   ]
  },
  {
   "cell_type": "markdown",
   "metadata": {},
   "source": [
    "```yaml\n",
    "- name: Configure AWS Credentials\n",
    "uses: aws-actions/configure-aws-credentials@v1\n",
    "with:\n",
    "  aws-access-key-id: ${{ secrets.AWS_ACCESS_KEY_ID }}\n",
    "  aws-secret-access-key: ${{ secrets.AWS_SECRET_ACCESS_KEY }}\n",
    "  aws-region: us-east-1\n",
    "```"
   ]
  },
  {
   "cell_type": "markdown",
   "metadata": {},
   "source": [
    "So notice that we use interpolation to read from the repository, and then also have to specify the correct AWS region."
   ]
  },
  {
   "cell_type": "markdown",
   "metadata": {},
   "source": [
    "Now that we have a step to login.  We can create an ebs application, and test-environment with the following steps."
   ]
  },
  {
   "cell_type": "markdown",
   "metadata": {},
   "source": [
    "```yaml\n",
    "- name: Create EBS application\n",
    "run: |\n",
    "  eb init -p python-3.6 hello-world --region us-east-1\n",
    "- name: Create deploy environment\n",
    "run: |\n",
    "  eb create deploy-environment\n",
    "```"
   ]
  },
  {
   "cell_type": "markdown",
   "metadata": {},
   "source": [
    "The first step, with `eb init` creates an application with Python 3.6 setup in the specified region.  It's equivalent to the following in the dashboard."
   ]
  },
  {
   "cell_type": "markdown",
   "metadata": {},
   "source": [
    "<img src=\"./create-application-aws.png\" width=\"80%\">"
   ]
  },
  {
   "cell_type": "markdown",
   "metadata": {},
   "source": [
    "The second step, `eb create deploy-environment` both **creates** the environment for the application, **and deploys** the code including downloading the pip packages specified in `requirements.txt`."
   ]
  },
  {
   "cell_type": "markdown",
   "metadata": {},
   "source": [
    "Finally, because we only need to *create* the environment one time, we can use boolean logic to just run the `deploy` command if the environment is already created."
   ]
  },
  {
   "cell_type": "markdown",
   "metadata": {},
   "source": [
    "```yaml\n",
    "run: | \n",
    "  (eb use test-environment && eb status test-environment && eb deploy) || eb create test-environment\n",
    "```"
   ]
  },
  {
   "cell_type": "markdown",
   "metadata": {},
   "source": [
    "Ok, with these changes the entire job now looks like the following.  Read it over and see if the steps make sense to you."
   ]
  },
  {
   "cell_type": "markdown",
   "metadata": {},
   "source": [
    "```yaml\n",
    "jobs:\n",
    "  deploy:\n",
    "    needs:\n",
    "      - test\n",
    "    runs-on: ubuntu-latest\n",
    "    steps:\n",
    "      - uses: actions/checkout@v2\n",
    "\n",
    "      - name: Set up Python 3.6\n",
    "        uses: actions/setup-python@v1\n",
    "        with:\n",
    "          python-version: \"3.6\"\n",
    "      - name: Get EB CLI version\n",
    "        run: |\n",
    "          python -m pip install --upgrade pip\n",
    "          pip install awsebcli --upgrade\n",
    "          eb --version\n",
    "      - name: Configure AWS Credentials\n",
    "        uses: aws-actions/configure-aws-credentials@v1\n",
    "        with:\n",
    "          aws-access-key-id: ${{ secrets.AWS_ACCESS_KEY_ID }}\n",
    "          aws-secret-access-key: ${{ secrets.AWS_SECRET_ACCESS_KEY }}\n",
    "          aws-region: us-east-1\n",
    "      - name: Create EBS application\n",
    "        run: |\n",
    "          eb init -p python-3.6 hello-world --region us-east-1\n",
    "      - name: Create test environment\n",
    "        run: |\n",
    "          (eb use test-environment && eb status test-environment && eb deploy) || eb create test-environment\n",
    "```"
   ]
  },
  {
   "cell_type": "markdown",
   "metadata": {},
   "source": [
    "### Summary"
   ]
  },
  {
   "cell_type": "markdown",
   "metadata": {},
   "source": [
    "In this lesson, we saw how to deploy our application to AWS elastic beanstalk.  To accomplish this, we first used the `needs: ` key to ensure we would only proceed if the test step succeeded. Then we installed the awsebcli using pip, then we retrieved our access key and secret access key and added them to the settings > secrets.  Afterwards, we created our elastic beanstalk application, and the corresponding environment.  We wrote boolean logic so that we would only *create* our environment if it did not already exist, and otherwise *deploy* to the environment."
   ]
  },
  {
   "cell_type": "markdown",
   "metadata": {},
   "source": [
    "### Resources\n",
    "\n",
    "\n",
    "[Relevant Repo](https://github.com/JeffKatzy)\n",
    "\n",
    "[EBS Flask](https://docs.aws.amazon.com/elasticbeanstalk/latest/dg/create-deploy-python-flask.html)"
   ]
  }
 ],
 "metadata": {
  "kernelspec": {
   "display_name": "Python 3",
   "language": "python",
   "name": "python3"
  },
  "language_info": {
   "codemirror_mode": {
    "name": "ipython",
    "version": 3
   },
   "file_extension": ".py",
   "mimetype": "text/x-python",
   "name": "python",
   "nbconvert_exporter": "python",
   "pygments_lexer": "ipython3",
   "version": "3.8.3"
  }
 },
 "nbformat": 4,
 "nbformat_minor": 4
}
